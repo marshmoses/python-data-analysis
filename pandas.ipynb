{
 "cells": [
  {
   "cell_type": "code",
   "execution_count": 12,
   "metadata": {},
   "outputs": [
    {
     "name": "stdout",
     "output_type": "stream",
     "text": [
      "0    0.25\n",
      "1    0.50\n",
      "2    0.75\n",
      "3    1.00\n",
      "dtype: float64\n",
      "[0.25 0.5  0.75 1.  ]\n",
      "RangeIndex(start=0, stop=4, step=1)\n",
      "0.5\n",
      "1    0.50\n",
      "2    0.75\n",
      "dtype: float64\n",
      "a    0.25\n",
      "b    0.50\n",
      "c    0.75\n",
      "d    1.00\n",
      "dtype: float64\n",
      "0.5\n",
      "2    0.25\n",
      "5    0.50\n",
      "3    0.75\n",
      "7    1.00\n",
      "dtype: float64\n",
      "0.5\n"
     ]
    }
   ],
   "source": [
    "import numpy as np\n",
    "import pandas as pd\n",
    "# NumPy structured arrays in which the rows and columns are identified with labels rather than simple integer indices\n",
    "# Pandas Series is a one-dimensional array of indexed data. It can be created from a list or array as follows:\n",
    "data = pd.Series([0.25, 0.5, 0.75, 1.0])  # Series wraps both a sequence of values and a sequence of indices\n",
    "print(data)\n",
    "print(data.values)\n",
    "print(data.index)# like NumPy array, but with an explicitly defined index associated with the values\n",
    "print(data[1])\n",
    "print(data[1:3])# slicing by explicit index\n",
    "data = pd.Series([0.25, 0.5, 0.75, 1.0], index=['a', 'b', 'c', 'd'])# Series as generalized NumPy array using strings as index\n",
    "print(data)\n",
    "print(data['b'])# access using index\n",
    "data = pd.Series([0.25, 0.5, 0.75, 1.0], index=[2, 5, 3, 7])# Series as specialized dictionary\n",
    "print(data)\n",
    "print(data[5])# access using index\n",
    "\n",
    "\n",
    "\n"
   ]
  },
  {
   "cell_type": "code",
   "execution_count": 20,
   "metadata": {},
   "outputs": [
    {
     "name": "stdout",
     "output_type": "stream",
     "text": [
      "California    38332521\n",
      "Texas         26448193\n",
      "New York      19651127\n",
      "Florida       19552860\n",
      "Illinois      12882135\n",
      "dtype: int64\n",
      "38332521\n",
      "California    38332521\n",
      "Texas         26448193\n",
      "New York      19651127\n",
      "Florida       19552860\n",
      "Illinois      12882135\n",
      "dtype: int64\n",
      "California    38332521\n",
      "Texas         26448193\n",
      "New York      19651127\n",
      "dtype: int64\n",
      "<class 'pandas.core.series.Series'>\n",
      "<class 'pandas.core.series.Series'>\n"
     ]
    }
   ],
   "source": [
    "#series as dictionary\n",
    "population_dict = {'California': 38332521, 'Texas': 26448193, 'New York': 19651127, 'Florida': 19552860, 'Illinois': 12882135}\n",
    "population = pd.Series(population_dict)\n",
    "print(population)\n",
    "print(population['California'])\n",
    "print(population['California':'Illinois'])# slicing by explicit index\n",
    "print(population[0:3])# slicing by implicit integer index\n",
    "pd.Series(5, index=[100, 200, 300])# scalar value will be repeated to match the length of index\n",
    "print(pd.Series)\n",
    "pd.Series({2:'a', 1:'b', 3:'c'}, index=[3, 2])# explicit index will override the implicit index\n",
    "pd.Series({2:'a', 1:'b', 3:'c'}, index=[3, 2, 4])# explicit index will override the implicit index\n",
    "pd.Series({2:'a', 1:'b', 3:'c'}, index=[3, 2, 4]).index#  repeated to match the length of index\n",
    "pd.Series({2:'a', 1:'b', 3:'c'}).index# explicit index will override the implicit index\n",
    "print(pd.Series)\n"
   ]
  },
  {
   "cell_type": "code",
   "execution_count": 24,
   "metadata": {},
   "outputs": [
    {
     "name": "stdout",
     "output_type": "stream",
     "text": [
      "California    423967\n",
      "Texas         695662\n",
      "New York      141297\n",
      "Florida       170312\n",
      "Illinois      149995\n",
      "dtype: int64\n",
      "            population    area\n",
      "California    38332521  423967\n",
      "Texas         26448193  695662\n",
      "New York      19651127  141297\n",
      "Florida       19552860  170312\n",
      "Illinois      12882135  149995\n",
      "Index(['California', 'Texas', 'New York', 'Florida', 'Illinois'], dtype='object')\n",
      "Index(['population', 'area'], dtype='object')\n"
     ]
    }
   ],
   "source": [
    "#pandas DataFrame object\n",
    "area_dict = {'California': 423967, 'Texas': 695662, 'New York': 141297, 'Florida': 170312, 'Illinois': 149995}\n",
    "area = pd.Series(area_dict)\n",
    "print(area)\n",
    "states = pd.DataFrame({'population': population, 'area': area})# DataFrame as a generalized NumPy array\n",
    "print(states)\n",
    "print(states.index)# accessing index\n",
    "print(states.columns)# accessing columns\n",
    "\n"
   ]
  },
  {
   "cell_type": "code",
   "execution_count": 33,
   "metadata": {},
   "outputs": [
    {
     "name": "stdout",
     "output_type": "stream",
     "text": [
      "California    423967\n",
      "Texas         695662\n",
      "New York      141297\n",
      "Florida       170312\n",
      "Illinois      149995\n",
      "Name: area, dtype: int64\n",
      "            population\n",
      "California    38332521\n",
      "Texas         26448193\n",
      "New York      19651127\n",
      "Florida       19552860\n",
      "Illinois      12882135\n",
      "   a  b\n",
      "0  0  0\n",
      "1  1  2\n",
      "2  2  4\n",
      "     a  b    c\n",
      "0  1.0  2  NaN\n",
      "1  NaN  3  4.0\n",
      "            population    area\n",
      "California    38332521  423967\n",
      "Texas         26448193  695662\n",
      "New York      19651127  141297\n",
      "Florida       19552860  170312\n",
      "Illinois      12882135  149995\n",
      "        foo       bar\n",
      "a  0.454855  0.780328\n",
      "b  0.529411  0.456677\n",
      "c  0.759012  0.943644\n",
      "   A    B\n",
      "0  0  0.0\n",
      "1  0  0.0\n",
      "2  0  0.0\n"
     ]
    }
   ],
   "source": [
    "# DataFrame as specialized dictionary\n",
    "area = pd.Series({'California': 423967, 'Texas': 695662, 'New York': 141297, 'Florida': 170312, 'Illinois': 149995})\n",
    "\n",
    "print(states['area'])# accessing columns\n",
    "# Constructing DataFrame opulation'])# from a single Series object\n",
    "print(pd.DataFrame(population, columns=['population']))# from a single Series object\n",
    "# from a list of dicts\n",
    "data = [{'a': i, 'b': 2 * i} for i in range(3)]\n",
    "print(pd.DataFrame(data))\n",
    "print(pd.DataFrame([{'a': 1, 'b': 2}, {'b': 3, 'c': 4}]))# missing values are filled with NaN (i.e., “not a number”)\n",
    "# from a dictionary of Series objects\n",
    "print(pd.DataFrame({'population': population, 'area': area}))# from a dictionary of Series objects\n",
    "# from a two-dimensional NumPy array\n",
    "print(pd.DataFrame(np.random.rand(3, 2), columns=['foo', 'bar'], index=['a', 'b', 'c']))# from a two-dimensional NumPy array  # from a two-dimensional NumPy array\n",
    "# from a NumPy structured array\n",
    "A = np.zeros(3, dtype=[('A', 'i8'), ('B', 'f8')])\n",
    "print(pd.DataFrame(A))# from a NumPy structured array"
   ]
  },
  {
   "cell_type": "code",
   "execution_count": 8,
   "metadata": {},
   "outputs": [
    {
     "name": "stdout",
     "output_type": "stream",
     "text": [
      "Index([2, 3, 5, 7, 11], dtype='int64')\n",
      "3\n",
      "Index([2, 5, 11], dtype='int64')\n",
      "5 (5,) 1 int64\n",
      "Index([0, 3, 5, 7, 9], dtype='int64')\n",
      "Index([3, 3, 5, 7, 11], dtype='int64')\n",
      "Index([3, 0, 0, 0, 2], dtype='int64')\n"
     ]
    }
   ],
   "source": [
    "#The Pandas Index Object\n",
    "import pandas as pd\n",
    "ind = pd.Index([2, 3, 5, 7, 11])\n",
    "print(ind)\n",
    "# Index as immutable array\n",
    "print(ind[1])\n",
    "print(ind[::2])\n",
    "print(ind.size, ind.shape, ind.ndim, ind.dtype)\n",
    "# Index as ordered set\n",
    "indA = pd.Index([1, 3, 5, 7, 9])\n",
    "indB = pd.Index([2, 3, 5, 7, 11])\n",
    "print(indA & indB) # intersection\n",
    "\n",
    "print(indA | indB) # union\n",
    "print(indA ^ indB) # symmetric difference\n",
    "\n"
   ]
  },
  {
   "cell_type": "code",
   "execution_count": 8,
   "metadata": {},
   "outputs": [
    {
     "name": "stdout",
     "output_type": "stream",
     "text": [
      "a    0.25\n",
      "b    0.50\n",
      "c    0.75\n",
      "d    1.00\n",
      "dtype: float64\n",
      "a    0.25\n",
      "b    0.50\n",
      "c    0.75\n",
      "d    1.00\n",
      "e    1.25\n",
      "dtype: float64\n"
     ]
    }
   ],
   "source": [
    "#data selection in series\n",
    "import pandas as pd\n",
    "data = pd.Series([0.25, 0.5, 0.75, 1.0], index=['a', 'b', 'c','d'])\n",
    "print(data)\n",
    "data['b']\n",
    "'a' in data\n",
    "data.keys()\n",
    "list(data.items())\n",
    "data['e'] = 1.25\n",
    "print(data)\n",
    "\n",
    "\n",
    "\n",
    "\n",
    "\n"
   ]
  },
  {
   "cell_type": "code",
   "execution_count": null,
   "metadata": {},
   "outputs": [],
   "source": [
    "#series as one-dimensional array\n",
    "import pandas as pd\n",
    "# slicing by explicit index\n",
    "data['a' : 'c']\n",
    "# slicing by implicit integer index\n",
    "data[0:2]\n",
    "# masking\n",
    "data[(data > 0.3) & (data < 0.8)]\n",
    "# fancy indexing\n",
    "data[['a', 'e']]\n",
    "\n",
    "\n",
    "\n",
    "\n",
    "\n",
    "\n",
    "\n",
    "\n"
   ]
  },
  {
   "cell_type": "code",
   "execution_count": 24,
   "metadata": {},
   "outputs": [
    {
     "name": "stdout",
     "output_type": "stream",
     "text": [
      "1    a\n",
      "3    b\n",
      "5    c\n",
      "dtype: object\n",
      "a\n",
      "1    a\n",
      "3    b\n",
      "dtype: object\n",
      "b\n",
      "3    b\n",
      "5    c\n",
      "dtype: object\n"
     ]
    }
   ],
   "source": [
    "# indexing: loc, iloc, ix\n",
    "data = pd.Series(['a', 'b', 'c'], index=[1, 3, 5])\n",
    "print(data)\n",
    "# explicit index when indexing\n",
    "data[1]\n",
    "# implicit index when slicing\n",
    "data[1:3]\n",
    "# loc attribute allows indexing and slicing that always references the explicit index\n",
    "print(data.loc[1])\n",
    "print(data.loc[1:3])\n",
    "# iloc attribute allows indexing and slicing that always references the implicit Python-style index\n",
    "print(data.iloc[1])\n",
    "print(data.iloc[1:3])\n",
    "# ix is a hybrid of the two\n",
    "\n",
    "\n",
    "\n"
   ]
  },
  {
   "cell_type": "code",
   "execution_count": 26,
   "metadata": {},
   "outputs": [
    {
     "name": "stdout",
     "output_type": "stream",
     "text": [
      "              area       pop\n",
      "California  423967  38332521\n",
      "Texas       695662  26448193\n",
      "New York    141297  19651127\n",
      "Florida     170312  19552860\n",
      "Illinois    149995  12882135\n",
      "California    423967\n",
      "Texas         695662\n",
      "New York      141297\n",
      "Florida       170312\n",
      "Illinois      149995\n",
      "Name: area, dtype: int64\n",
      "California    423967\n",
      "Texas         695662\n",
      "New York      141297\n",
      "Florida       170312\n",
      "Illinois      149995\n",
      "Name: area, dtype: int64\n",
      "              area       pop     density\n",
      "California  423967  38332521   90.413926\n",
      "Texas       695662  26448193   38.018740\n",
      "New York    141297  19651127  139.076746\n",
      "Florida     170312  19552860  114.806121\n",
      "Illinois    149995  12882135   85.883763\n",
      "[[4.23967000e+05 3.83325210e+07 9.04139261e+01]\n",
      " [6.95662000e+05 2.64481930e+07 3.80187404e+01]\n",
      " [1.41297000e+05 1.96511270e+07 1.39076746e+02]\n",
      " [1.70312000e+05 1.95528600e+07 1.14806121e+02]\n",
      " [1.49995000e+05 1.28821350e+07 8.58837628e+01]]\n"
     ]
    }
   ],
   "source": [
    "#dataframe as a dictionary\n",
    "import pandas as pd\n",
    "area = pd.Series({'California': 423967, 'Texas': 695662, 'New York': 141297, 'Florida': 170312, 'Illinois': 149995})  # dictionary-style indexing of the column\n",
    "pop = pd.Series({'California': 38332521, 'Texas': 26448193, 'New York': 19651127, 'Florida': 19552860, 'Illinois': 12882135})  # dictionary-style indexing of the column\n",
    "data = pd.DataFrame({'area':area, 'pop':pop})  # dictionary-style indexing of the column\n",
    "print(data)\n",
    "print(data['area'])\n",
    "print(data.area)\n",
    "data['density'] = data['pop'] / data['area']  # adding a new column\n",
    "print(data)\n",
    "print(data.values)\n",
    "\n"
   ]
  },
  {
   "cell_type": "code",
   "execution_count": 43,
   "metadata": {},
   "outputs": [
    {
     "name": "stdout",
     "output_type": "stream",
     "text": [
      "              area       pop     density\n",
      "California  423967  38332521   90.000000\n",
      "Texas       695662  26448193   38.018740\n",
      "New York    141297  19651127  139.076746\n",
      "Florida     170312  19552860  114.806121\n",
      "Illinois    149995  12882135   85.883763\n"
     ]
    },
    {
     "data": {
      "text/html": [
       "<div>\n",
       "<style scoped>\n",
       "    .dataframe tbody tr th:only-of-type {\n",
       "        vertical-align: middle;\n",
       "    }\n",
       "\n",
       "    .dataframe tbody tr th {\n",
       "        vertical-align: top;\n",
       "    }\n",
       "\n",
       "    .dataframe thead th {\n",
       "        text-align: right;\n",
       "    }\n",
       "</style>\n",
       "<table border=\"1\" class=\"dataframe\">\n",
       "  <thead>\n",
       "    <tr style=\"text-align: right;\">\n",
       "      <th></th>\n",
       "      <th>area</th>\n",
       "      <th>pop</th>\n",
       "      <th>density</th>\n",
       "    </tr>\n",
       "  </thead>\n",
       "  <tbody>\n",
       "    <tr>\n",
       "      <th>New York</th>\n",
       "      <td>141297</td>\n",
       "      <td>19651127</td>\n",
       "      <td>139.076746</td>\n",
       "    </tr>\n",
       "    <tr>\n",
       "      <th>Florida</th>\n",
       "      <td>170312</td>\n",
       "      <td>19552860</td>\n",
       "      <td>114.806121</td>\n",
       "    </tr>\n",
       "  </tbody>\n",
       "</table>\n",
       "</div>"
      ],
      "text/plain": [
       "            area       pop     density\n",
       "New York  141297  19651127  139.076746\n",
       "Florida   170312  19552860  114.806121"
      ]
     },
     "execution_count": 43,
     "metadata": {},
     "output_type": "execute_result"
    }
   ],
   "source": [
    "# dataframe as two-dimensional array\n",
    "data.values\n",
    "data.T# transpose\n",
    "data.values[0]# indexing the rows\n",
    "data['area']# indexing the columns\n",
    "data.iloc[:3, :2]# slicing\n",
    "data.loc[:'Illinois', :'pop']# slicing\n",
    "data.loc[data.density > 100, ['pop', 'density']]# masking and fancy indexing\n",
    "data.iloc[0, 2] = 90# modifying values\n",
    "print(data)\n",
    "data['Florida':'Illinois']# indexing explicit index\n",
    "data[1:3]# indexing implicit Python-style index\n",
    "data[data.density > 100]# masking\n",
    "\n",
    "\n",
    "\n",
    "\n",
    "\n"
   ]
  }
 ],
 "metadata": {
  "kernelspec": {
   "display_name": "base",
   "language": "python",
   "name": "python3"
  },
  "language_info": {
   "codemirror_mode": {
    "name": "ipython",
    "version": 3
   },
   "file_extension": ".py",
   "mimetype": "text/x-python",
   "name": "python",
   "nbconvert_exporter": "python",
   "pygments_lexer": "ipython3",
   "version": "3.11.5"
  }
 },
 "nbformat": 4,
 "nbformat_minor": 2
}

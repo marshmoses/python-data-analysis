{
 "cells": [
  {
   "cell_type": "code",
   "execution_count": null,
   "metadata": {},
   "outputs": [],
   "source": [
    "pip install colabCode\n"
   ]
  },
  {
   "cell_type": "code",
   "execution_count": null,
   "metadata": {},
   "outputs": [],
   "source": [
    "# Install the Google Colaboratory library\n",
    "!pip install google-colab\n"
   ]
  },
  {
   "cell_type": "code",
   "execution_count": null,
   "metadata": {},
   "outputs": [],
   "source": [
    "print('remember to ask Tm on how to install the google-colab')"
   ]
  },
  {
   "cell_type": "code",
   "execution_count": null,
   "metadata": {},
   "outputs": [],
   "source": [
    "from colabCode import ColabCode"
   ]
  },
  {
   "cell_type": "code",
   "execution_count": null,
   "metadata": {},
   "outputs": [],
   "source": [
    "import numpy as np"
   ]
  },
  {
   "cell_type": "code",
   "execution_count": null,
   "metadata": {},
   "outputs": [],
   "source": [
    "import IPython\n",
    "import numpy as np\n",
    "import tables\n",
    "print(np.__version__)\n",
    "print(dir(np))\n",
    "print(IPython)\n"
   ]
  },
  {
   "cell_type": "code",
   "execution_count": null,
   "metadata": {},
   "outputs": [],
   "source": [
    "#Attributes of arrays: Determining the size, shape, memory \n",
    "#consumption, and data types of arrays\n",
    "import numpy as np\n",
    "np.random.seed(0)  # seed for reproducibility\n",
    "\n",
    "x1 = np.random.randint(10, size=6)  # One-dimensional array\n",
    "x2 = np.random.randint(10, size=(3, 4))  # Two-dimensional array\n",
    "x3 = np.random.randint(10, size=(3, 4, 5))  # Three-dimensional array\n",
    "\n",
    "print(\"x3 ndim: \", x3.ndim)\n",
    "print(\"x3 shape:\", x3.shape)\n",
    "print(\"x3 size: \", x3.size)\n"
   ]
  },
  {
   "cell_type": "code",
   "execution_count": 47,
   "metadata": {},
   "outputs": [
    {
     "name": "stdout",
     "output_type": "stream",
     "text": [
      "[0, 1, 2, 3, 4, 5, 6, 7, 8, 9]\n",
      "['0', '1', '2', '3', '4', '5', '6', '7', '8', '9']\n",
      "0\n",
      "[<class 'bool'>, <class 'str'>, <class 'float'>, <class 'int'>]\n",
      "array('i', [0, 1, 2, 3, 4, 5, 6, 7, 8, 9])\n",
      "[1 4 2 5 3]\n",
      "[3.14 4.   2.   3.  ]\n",
      "[0 0 0 0 0 0 0 0 0 0]\n"
     ]
    },
    {
     "data": {
      "text/plain": [
       "array([2.47032823e-323, 6.36598737e-314, 1.90979621e-313])"
      ]
     },
     "execution_count": 47,
     "metadata": {},
     "output_type": "execute_result"
    }
   ],
   "source": [
    "#LISTS\n",
    "#a stardard mutable multi-element container in Python\n",
    "L = list(range(10))\n",
    "print(L)\n",
    "type(L[0])\n",
    "# list of strings >integers become strings\n",
    "L2 = [str(c) for c in L]\n",
    "print(L2)\n",
    "print(L2[0])\n",
    "#heterogeneous lists\n",
    "L3 = [True, \"2\", 3.0, 4]\n",
    "print([type(item) for item in L3])\n",
    "#fixed-type arrays in Python\n",
    "import array\n",
    "L = list(range(10))\n",
    "A = array.array('i', L)\n",
    "print(A)\n",
    "#array.array('i', [0, 1, 2, 3, 4, 5, 6, 7, 8, 9]) i type code indicating the contents are integers\n",
    "#NumPy arrays: the efficient ndarray creating arrays from Python lists\n",
    "import numpy as np\n",
    "#integer array\n",
    "np.array([1, 4, 2, 5, 3])\n",
    "print(np.array([1, 4, 2, 5, 3]))\n",
    "#NumPy is constrained to arrays that all contain the same type\n",
    "#If types do not match, NumPy will upcast if possible\n",
    "np.array([3.14, 4, 2, 3])\n",
    "print(np.array([3.14, 4, 2, 3]))\n",
    "#explicitly set the data type using the dtype keyword\n",
    "np.array([1, 2, 3, 4], dtype='float32')\n",
    "#print(np.array([1, 2, 3, 4], dtype='float32')) \n",
    "#unlike Python lists, NumPy arrays can explicitly be multidimensional\n",
    "#nested lists result in multidimensional arrays\n",
    "np.array([range(i, i + 3) for i in [2, 4, 6]])\n",
    "#print(np.array([range(i, i + 3) for i in [2, 4, 6]]))\n",
    "#creating arrays from scratch\n",
    "#Create a length-10 integer array filled with zeros\n",
    "np.zeros(10, dtype=int)\n",
    "print(np.zeros(10, dtype=int))\n",
    "#Create a 3x5 floating-point array filled with 1s\n",
    "np.ones((3, 5), dtype=float)\n",
    "#print(np.ones((3, 5), dtype=float))\n",
    "#Create a 3x5 array filled with 3.14\n",
    "np.full((3, 5), 3.14)\n",
    "#print(np.full((3, 5), 3.14))\n",
    "#Create an array filled with a linear sequence\n",
    "#Starting at 0, ending at 20, stepping by 2\n",
    "#(this is similar to the built-in range() function)\n",
    "np.arange(0, 20, 2)\n",
    "#print(np.arange(0, 20, 2))\n",
    "#Create an array of five values evenly spaced between 0 and 1\n",
    "np.linspace(0, 1, 5)\n",
    "#print(np.linspace(0, 1, 5))\n",
    "#Create a 3x3 array of uniformly distributed\n",
    "#random values between 0 and 1\n",
    "np.random.random((3, 3))\n",
    "#print(np.random.random((3, 3)))\n",
    "#Create a 3x3 array of normally distributed random values\n",
    "#with mean 0 and standard deviation 1\n",
    "np.random.normal(0, 1, (3, 3))\n",
    "#print(np.random.normal(0, 1, (3, 3)))\n",
    "#Create a 3x3 array of random integers in the interval [0, 10)\n",
    "np.random.randint(0, 10, (3, 3))\n",
    "#print(np.random.randint(0, 10, (3, 3)))\n",
    "#Create a 3x3 identity matrix\n",
    "np.eye(3)\n",
    "#print(np.eye(3))\n",
    "#Create an uninitialized array of three integers\n",
    "#The values will be whatever happens to already exist at that\n",
    "#memory location\n",
    "np.empty(3)\n",
    "#print(np.empty(3))\n",
    "\n",
    "\n",
    "\n",
    "\n",
    "\n",
    "\n",
    "\n",
    "\n",
    "\n",
    "\n",
    "\n",
    "\n",
    "\n"
   ]
  }
 ],
 "metadata": {
  "kernelspec": {
   "display_name": "base",
   "language": "python",
   "name": "python3"
  },
  "language_info": {
   "codemirror_mode": {
    "name": "ipython",
    "version": 3
   },
   "file_extension": ".py",
   "mimetype": "text/x-python",
   "name": "python",
   "nbconvert_exporter": "python",
   "pygments_lexer": "ipython3",
   "version": "3.11.5"
  }
 },
 "nbformat": 4,
 "nbformat_minor": 2
}
